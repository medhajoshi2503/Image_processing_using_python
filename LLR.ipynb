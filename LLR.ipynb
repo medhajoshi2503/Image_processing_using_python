{
  "nbformat": 4,
  "nbformat_minor": 0,
  "metadata": {
    "colab": {
      "private_outputs": true,
      "provenance": [],
      "include_colab_link": true
    },
    "kernelspec": {
      "name": "python3",
      "display_name": "Python 3"
    },
    "language_info": {
      "name": "python"
    },
    "accelerator": "TPU",
    "gpuClass": "standard"
  },
  "cells": [
    {
      "cell_type": "markdown",
      "metadata": {
        "id": "view-in-github",
        "colab_type": "text"
      },
      "source": [
        "<a href=\"https://colab.research.google.com/github/clevercatme/Image_processing_using_python/blob/main/LLR.ipynb\" target=\"_parent\"><img src=\"https://colab.research.google.com/assets/colab-badge.svg\" alt=\"Open In Colab\"/></a>"
      ]
    },
    {
      "cell_type": "code",
      "execution_count": null,
      "metadata": {
        "id": "FYNb3rwGPrYo"
      },
      "outputs": [],
      "source": [
        "from google.colab import drive\n",
        "drive.mount('/content/drive')"
      ]
    },
    {
      "cell_type": "code",
      "source": [
        "import tensorflow as tf\n",
        "tf.test.gpu_device_name()"
      ],
      "metadata": {
        "id": "hSoENmKGQcQm"
      },
      "execution_count": null,
      "outputs": []
    },
    {
      "cell_type": "code",
      "source": [
        "!python --version"
      ],
      "metadata": {
        "id": "eqmd_o-FSK3v"
      },
      "execution_count": null,
      "outputs": []
    },
    {
      "cell_type": "markdown",
      "source": [
        "https://stackoverflow.com/questions/74694004/how-to-install-python-3-7-in-google-colab"
      ],
      "metadata": {
        "id": "VgBxEKHrT1un"
      }
    },
    {
      "cell_type": "code",
      "source": [
        "!sudo apt-get install python3.7\n",
        "!sudo apt-get update -y\n",
        "!sudo update-alternatives --install /usr/bin/python3 python3 /usr/bin/python3.7 7\n",
        "#!sudo update-alternatives --config python3"
      ],
      "metadata": {
        "id": "ZVyjr981SNZO"
      },
      "execution_count": null,
      "outputs": []
    },
    {
      "cell_type": "code",
      "source": [
        "!python --version"
      ],
      "metadata": {
        "id": "UdZNxKnyTofR"
      },
      "execution_count": null,
      "outputs": []
    },
    {
      "cell_type": "code",
      "source": [
        "!sudo apt install python3-pip"
      ],
      "metadata": {
        "id": "JQejlDssUfQc"
      },
      "execution_count": null,
      "outputs": []
    },
    {
      "cell_type": "code",
      "source": [
        "!sudo apt-get install python3.7-distutils\n",
        "\n",
        "#!sudo apt-get install python3.7-apt"
      ],
      "metadata": {
        "id": "Vf53U5YoVawR"
      },
      "execution_count": null,
      "outputs": []
    },
    {
      "cell_type": "code",
      "source": [
        "!pip3 uninstall tensorflow -y\n",
        "!pip3 uninstall tensorflow-gpu -y\n",
        "!pip3 uninstall tensorflow-probability -y\n",
        "!pip3 uninstall dm-sonnet -y\n",
        "!pip3 uninstall tensorflow_datasets -y"
      ],
      "metadata": {
        "id": "wZwdtwOLh36q"
      },
      "execution_count": null,
      "outputs": []
    },
    {
      "cell_type": "code",
      "source": [
        "!pip3 install -U 'protobuf==3.13'"
      ],
      "metadata": {
        "id": "Ze21XWgIWu_x"
      },
      "execution_count": null,
      "outputs": []
    },
    {
      "cell_type": "code",
      "source": [
        "!pip3 install -r '/content/drive/MyDrive/local_linear_regularizer/requirements.txt'\n"
      ],
      "metadata": {
        "id": "B3Dzp1bSUsCi"
      },
      "execution_count": null,
      "outputs": []
    },
    {
      "cell_type": "code",
      "source": [
        "%cd /content/drive/MyDrive/local_linear_regularizer/"
      ],
      "metadata": {
        "id": "4iesgn4QYVyn"
      },
      "execution_count": null,
      "outputs": []
    },
    {
      "cell_type": "code",
      "source": [
        "!python3 -m local_linearity_regularizer.train_main --config=local_linearity_regularizer/config.py"
      ],
      "metadata": {
        "id": "sL0nO_EvXLey"
      },
      "execution_count": null,
      "outputs": []
    },
    {
      "cell_type": "code",
      "source": [
        "!python3 --version"
      ],
      "metadata": {
        "id": "3XfP-8VrkE5Y"
      },
      "execution_count": null,
      "outputs": []
    }
  ]
}